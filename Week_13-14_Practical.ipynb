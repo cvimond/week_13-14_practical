{
 "cells": [
  {
   "cell_type": "code",
   "execution_count": 61,
   "id": "fe8fb689",
   "metadata": {},
   "outputs": [],
   "source": [
    "library(tidyverse)\n",
    "library(lubridate)"
   ]
  },
  {
   "cell_type": "markdown",
   "id": "73150986",
   "metadata": {},
   "source": [
    "### The Dataset\n",
    "\n",
    "* YERockfish.csv contains measurements of fish collected from along the Oregon coast\n",
    "\n",
    "  * Yelloweye Rockfish (Sebastes rubberimus)\n",
    "  \n",
    "* Length (length; to the nearest cm),\n",
    "* Age (years)\n",
    "* Maturity (Immature and Mature) state of female  "
   ]
  },
  {
   "cell_type": "markdown",
   "id": "b973be77",
   "metadata": {},
   "source": [
    "* Read in the data as a tibble\n"
   ]
  },
  {
   "cell_type": "code",
   "execution_count": 62,
   "id": "6ecc744d",
   "metadata": {},
   "outputs": [
    {
     "name": "stderr",
     "output_type": "stream",
     "text": [
      "Parsed with column specification:\n",
      "cols(\n",
      "  date = \u001b[31mcol_character()\u001b[39m,\n",
      "  length = \u001b[32mcol_double()\u001b[39m,\n",
      "  age = \u001b[32mcol_double()\u001b[39m,\n",
      "  maturity = \u001b[31mcol_character()\u001b[39m,\n",
      "  stage = \u001b[31mcol_character()\u001b[39m\n",
      ")\n",
      "\n"
     ]
    },
    {
     "data": {
      "text/html": [
       "<table>\n",
       "<thead><tr><th scope=col>date</th><th scope=col>length</th><th scope=col>age</th><th scope=col>maturity</th><th scope=col>stage</th></tr></thead>\n",
       "<tbody>\n",
       "\t<tr><td>9/2/2003 </td><td>31       </td><td>10       </td><td>Immature </td><td>1        </td></tr>\n",
       "\t<tr><td>10/7/2002</td><td>32       </td><td> 6       </td><td>Immature </td><td>1        </td></tr>\n",
       "\t<tr><td>7/18/2000</td><td>32       </td><td>11       </td><td>Immature </td><td>1        </td></tr>\n",
       "\t<tr><td>6/11/2001</td><td>32       </td><td>11       </td><td>Immature </td><td>2        </td></tr>\n",
       "\t<tr><td>8/8/2000 </td><td>32       </td><td>13       </td><td>Immature </td><td>2        </td></tr>\n",
       "\t<tr><td>10/4/2003</td><td>33       </td><td> 9       </td><td>Immature </td><td>1        </td></tr>\n",
       "</tbody>\n",
       "</table>\n"
      ],
      "text/latex": [
       "\\begin{tabular}{r|lllll}\n",
       " date & length & age & maturity & stage\\\\\n",
       "\\hline\n",
       "\t 9/2/2003  & 31        & 10        & Immature  & 1        \\\\\n",
       "\t 10/7/2002 & 32        &  6        & Immature  & 1        \\\\\n",
       "\t 7/18/2000 & 32        & 11        & Immature  & 1        \\\\\n",
       "\t 6/11/2001 & 32        & 11        & Immature  & 2        \\\\\n",
       "\t 8/8/2000  & 32        & 13        & Immature  & 2        \\\\\n",
       "\t 10/4/2003 & 33        &  9        & Immature  & 1        \\\\\n",
       "\\end{tabular}\n"
      ],
      "text/markdown": [
       "\n",
       "| date | length | age | maturity | stage |\n",
       "|---|---|---|---|---|\n",
       "| 9/2/2003  | 31        | 10        | Immature  | 1         |\n",
       "| 10/7/2002 | 32        |  6        | Immature  | 1         |\n",
       "| 7/18/2000 | 32        | 11        | Immature  | 1         |\n",
       "| 6/11/2001 | 32        | 11        | Immature  | 2         |\n",
       "| 8/8/2000  | 32        | 13        | Immature  | 2         |\n",
       "| 10/4/2003 | 33        |  9        | Immature  | 1         |\n",
       "\n"
      ],
      "text/plain": [
       "  date      length age maturity stage\n",
       "1 9/2/2003  31     10  Immature 1    \n",
       "2 10/7/2002 32      6  Immature 1    \n",
       "3 7/18/2000 32     11  Immature 1    \n",
       "4 6/11/2001 32     11  Immature 2    \n",
       "5 8/8/2000  32     13  Immature 2    \n",
       "6 10/4/2003 33      9  Immature 1    "
      ]
     },
     "metadata": {},
     "output_type": "display_data"
    }
   ],
   "source": [
    "# read in YERockfish data as tibble\n",
    "raw_data = read_csv(\"YERockfish.csv\")\n",
    "head(raw_data)"
   ]
  },
  {
   "cell_type": "markdown",
   "id": "2b64fef5",
   "metadata": {},
   "source": [
    "* This data contains a date column. R provides an easy way to manipulate dates.\n",
    "  * The field needs to be converted to a format that R will recognize as a date. \n",
    "    * The `as.POSIXct()` function does this conversion. The function takes two arguments\n",
    "      * The column to convert\n",
    "      * Format of the date. Since dates come in vairous shapes (ex. yyyy/m/d, mm/dd/yy, etc..)\n",
    "\n",
    "* Use the function `as.POSIXct()` to convert the date. The approach is exactly the same as converting to factor (`as.factor()`) or integer (`as.integer()`)\n",
    "  * Here you can pass the following format string for the parameter `format`\n",
    "    * `%m/%d/%Y`\n",
    "    \n",
    " * Bonus: use a `dplyr` pipeline to mutate the column"
   ]
  },
  {
   "cell_type": "code",
   "execution_count": 63,
   "id": "30123ad5",
   "metadata": {},
   "outputs": [],
   "source": [
    "# convert the date column\n",
    "format_data <- raw_data %>%\n",
    "    mutate(date = as.POSIXct(date, format = \"%m/%d/%Y\"))"
   ]
  },
  {
   "cell_type": "markdown",
   "id": "088339c9",
   "metadata": {},
   "source": [
    "* Use the function `head()` on your modified `tibble` to make sure the column is now of type `dttm` (date and time) instead of `char`"
   ]
  },
  {
   "cell_type": "code",
   "execution_count": 64,
   "id": "b94d620c",
   "metadata": {},
   "outputs": [
    {
     "data": {
      "text/html": [
       "<table>\n",
       "<thead><tr><th scope=col>date</th><th scope=col>length</th><th scope=col>age</th><th scope=col>maturity</th><th scope=col>stage</th></tr></thead>\n",
       "<tbody>\n",
       "\t<tr><td>2003-09-02</td><td>31        </td><td>10        </td><td>Immature  </td><td>1         </td></tr>\n",
       "\t<tr><td>2002-10-07</td><td>32        </td><td> 6        </td><td>Immature  </td><td>1         </td></tr>\n",
       "\t<tr><td>2000-07-18</td><td>32        </td><td>11        </td><td>Immature  </td><td>1         </td></tr>\n",
       "\t<tr><td>2001-06-11</td><td>32        </td><td>11        </td><td>Immature  </td><td>2         </td></tr>\n",
       "\t<tr><td>2000-08-08</td><td>32        </td><td>13        </td><td>Immature  </td><td>2         </td></tr>\n",
       "\t<tr><td>2003-10-04</td><td>33        </td><td> 9        </td><td>Immature  </td><td>1         </td></tr>\n",
       "</tbody>\n",
       "</table>\n"
      ],
      "text/latex": [
       "\\begin{tabular}{r|lllll}\n",
       " date & length & age & maturity & stage\\\\\n",
       "\\hline\n",
       "\t 2003-09-02 & 31         & 10         & Immature   & 1         \\\\\n",
       "\t 2002-10-07 & 32         &  6         & Immature   & 1         \\\\\n",
       "\t 2000-07-18 & 32         & 11         & Immature   & 1         \\\\\n",
       "\t 2001-06-11 & 32         & 11         & Immature   & 2         \\\\\n",
       "\t 2000-08-08 & 32         & 13         & Immature   & 2         \\\\\n",
       "\t 2003-10-04 & 33         &  9         & Immature   & 1         \\\\\n",
       "\\end{tabular}\n"
      ],
      "text/markdown": [
       "\n",
       "| date | length | age | maturity | stage |\n",
       "|---|---|---|---|---|\n",
       "| 2003-09-02 | 31         | 10         | Immature   | 1          |\n",
       "| 2002-10-07 | 32         |  6         | Immature   | 1          |\n",
       "| 2000-07-18 | 32         | 11         | Immature   | 1          |\n",
       "| 2001-06-11 | 32         | 11         | Immature   | 2          |\n",
       "| 2000-08-08 | 32         | 13         | Immature   | 2          |\n",
       "| 2003-10-04 | 33         |  9         | Immature   | 1          |\n",
       "\n"
      ],
      "text/plain": [
       "  date       length age maturity stage\n",
       "1 2003-09-02 31     10  Immature 1    \n",
       "2 2002-10-07 32      6  Immature 1    \n",
       "3 2000-07-18 32     11  Immature 1    \n",
       "4 2001-06-11 32     11  Immature 2    \n",
       "5 2000-08-08 32     13  Immature 2    \n",
       "6 2003-10-04 33      9  Immature 1    "
      ]
     },
     "metadata": {},
     "output_type": "display_data"
    }
   ],
   "source": [
    "# make sure column is of type dttm (date and time) instead of char\n",
    "head(format_data)"
   ]
  },
  {
   "cell_type": "markdown",
   "id": "a401416e",
   "metadata": {},
   "source": [
    "* Count the number of lines in your file"
   ]
  },
  {
   "cell_type": "code",
   "execution_count": 65,
   "id": "30e1affb",
   "metadata": {},
   "outputs": [
    {
     "data": {
      "text/html": [
       "158"
      ],
      "text/latex": [
       "158"
      ],
      "text/markdown": [
       "158"
      ],
      "text/plain": [
       "[1] 158"
      ]
     },
     "metadata": {},
     "output_type": "display_data"
    }
   ],
   "source": [
    "# number of lines \n",
    "nrow(format_data)"
   ]
  },
  {
   "cell_type": "markdown",
   "id": "36b919b6",
   "metadata": {},
   "source": [
    "* Plot the count of observations per year.\n",
    " * Note that you can easily parse the year from the data using the `year()` function, which takes a column of `dttm`  datatype\n",
    " * The function year is part of the `lubridate` package, which you may need to import \n",
    "* Hint 1: try the function `year()` on your date column\n",
    "* Hint 2: Use group by to group the data and `n()` to count the number of entries in each group\n",
    "\n",
    "* Bonus: use a `dplyr` pipeline to answer this question."
   ]
  },
  {
   "cell_type": "code",
   "execution_count": 66,
   "id": "53577578",
   "metadata": {},
   "outputs": [
    {
     "data": {
      "text/html": [
       "<ol class=list-inline>\n",
       "\t<li>2003</li>\n",
       "\t<li>2002</li>\n",
       "\t<li>2000</li>\n",
       "\t<li>2001</li>\n",
       "\t<li>2000</li>\n",
       "\t<li>2003</li>\n",
       "\t<li>2000</li>\n",
       "\t<li>2002</li>\n",
       "\t<li>2000</li>\n",
       "\t<li>2000</li>\n",
       "\t<li>2000</li>\n",
       "\t<li>2002</li>\n",
       "\t<li>2000</li>\n",
       "\t<li>2000</li>\n",
       "\t<li>2003</li>\n",
       "\t<li>2000</li>\n",
       "\t<li>2003</li>\n",
       "\t<li>2000</li>\n",
       "\t<li>2000</li>\n",
       "\t<li>2000</li>\n",
       "\t<li>2002</li>\n",
       "\t<li>2002</li>\n",
       "\t<li>2000</li>\n",
       "\t<li>2000</li>\n",
       "\t<li>2002</li>\n",
       "\t<li>2002</li>\n",
       "\t<li>2003</li>\n",
       "\t<li>2000</li>\n",
       "\t<li>2000</li>\n",
       "\t<li>2002</li>\n",
       "\t<li>2002</li>\n",
       "\t<li>2001</li>\n",
       "\t<li>2003</li>\n",
       "\t<li>2001</li>\n",
       "\t<li>2002</li>\n",
       "\t<li>2003</li>\n",
       "\t<li>2002</li>\n",
       "\t<li>2003</li>\n",
       "\t<li>2000</li>\n",
       "\t<li>2000</li>\n",
       "\t<li>2000</li>\n",
       "\t<li>2002</li>\n",
       "\t<li>2001</li>\n",
       "\t<li>2003</li>\n",
       "\t<li>2002</li>\n",
       "\t<li>2003</li>\n",
       "\t<li>2003</li>\n",
       "\t<li>2000</li>\n",
       "\t<li>2000</li>\n",
       "\t<li>2003</li>\n",
       "\t<li>2002</li>\n",
       "\t<li>2000</li>\n",
       "\t<li>2003</li>\n",
       "\t<li>2000</li>\n",
       "\t<li>2001</li>\n",
       "\t<li>2001</li>\n",
       "\t<li>2002</li>\n",
       "\t<li>2002</li>\n",
       "\t<li>2002</li>\n",
       "\t<li>2002</li>\n",
       "\t<li>2003</li>\n",
       "\t<li>2003</li>\n",
       "\t<li>2002</li>\n",
       "\t<li>2002</li>\n",
       "\t<li>2002</li>\n",
       "\t<li>2003</li>\n",
       "\t<li>2001</li>\n",
       "\t<li>2002</li>\n",
       "\t<li>2001</li>\n",
       "\t<li>2003</li>\n",
       "\t<li>2002</li>\n",
       "\t<li>2003</li>\n",
       "\t<li>2000</li>\n",
       "\t<li>2000</li>\n",
       "\t<li>2003</li>\n",
       "\t<li>2000</li>\n",
       "\t<li>2000</li>\n",
       "\t<li>2003</li>\n",
       "\t<li>2003</li>\n",
       "\t<li>2000</li>\n",
       "\t<li>2003</li>\n",
       "\t<li>2000</li>\n",
       "\t<li>2000</li>\n",
       "\t<li>2002</li>\n",
       "\t<li>2003</li>\n",
       "\t<li>2002</li>\n",
       "\t<li>2002</li>\n",
       "\t<li>2002</li>\n",
       "\t<li>2002</li>\n",
       "\t<li>2003</li>\n",
       "\t<li>2003</li>\n",
       "\t<li>2002</li>\n",
       "\t<li>2002</li>\n",
       "\t<li>2004</li>\n",
       "\t<li>2003</li>\n",
       "\t<li>2000</li>\n",
       "\t<li>2001</li>\n",
       "\t<li>2008</li>\n",
       "\t<li>2002</li>\n",
       "\t<li>2002</li>\n",
       "\t<li>2002</li>\n",
       "\t<li>2002</li>\n",
       "\t<li>2001</li>\n",
       "\t<li>2000</li>\n",
       "\t<li>2003</li>\n",
       "\t<li>2003</li>\n",
       "\t<li>2002</li>\n",
       "\t<li>2003</li>\n",
       "\t<li>2002</li>\n",
       "\t<li>2002</li>\n",
       "\t<li>2000</li>\n",
       "\t<li>2002</li>\n",
       "\t<li>2000</li>\n",
       "\t<li>2002</li>\n",
       "\t<li>2002</li>\n",
       "\t<li>2003</li>\n",
       "\t<li>2003</li>\n",
       "\t<li>2002</li>\n",
       "\t<li>2002</li>\n",
       "\t<li>2003</li>\n",
       "\t<li>2003</li>\n",
       "\t<li>2002</li>\n",
       "\t<li>2002</li>\n",
       "\t<li>2003</li>\n",
       "\t<li>2002</li>\n",
       "\t<li>2002</li>\n",
       "\t<li>2001</li>\n",
       "\t<li>2002</li>\n",
       "\t<li>2002</li>\n",
       "\t<li>2002</li>\n",
       "\t<li>2004</li>\n",
       "\t<li>2003</li>\n",
       "\t<li>2000</li>\n",
       "\t<li>2003</li>\n",
       "\t<li>2004</li>\n",
       "\t<li>2000</li>\n",
       "\t<li>2002</li>\n",
       "\t<li>2002</li>\n",
       "\t<li>2002</li>\n",
       "\t<li>2002</li>\n",
       "\t<li>2003</li>\n",
       "\t<li>2003</li>\n",
       "\t<li>2002</li>\n",
       "\t<li>2002</li>\n",
       "\t<li>2003</li>\n",
       "\t<li>2002</li>\n",
       "\t<li>2003</li>\n",
       "\t<li>2003</li>\n",
       "\t<li>2002</li>\n",
       "\t<li>2001</li>\n",
       "\t<li>2000</li>\n",
       "\t<li>2001</li>\n",
       "\t<li>2003</li>\n",
       "\t<li>2002</li>\n",
       "\t<li>2002</li>\n",
       "\t<li>2002</li>\n",
       "\t<li>2002</li>\n",
       "\t<li>2001</li>\n",
       "</ol>\n"
      ],
      "text/latex": [
       "\\begin{enumerate*}\n",
       "\\item 2003\n",
       "\\item 2002\n",
       "\\item 2000\n",
       "\\item 2001\n",
       "\\item 2000\n",
       "\\item 2003\n",
       "\\item 2000\n",
       "\\item 2002\n",
       "\\item 2000\n",
       "\\item 2000\n",
       "\\item 2000\n",
       "\\item 2002\n",
       "\\item 2000\n",
       "\\item 2000\n",
       "\\item 2003\n",
       "\\item 2000\n",
       "\\item 2003\n",
       "\\item 2000\n",
       "\\item 2000\n",
       "\\item 2000\n",
       "\\item 2002\n",
       "\\item 2002\n",
       "\\item 2000\n",
       "\\item 2000\n",
       "\\item 2002\n",
       "\\item 2002\n",
       "\\item 2003\n",
       "\\item 2000\n",
       "\\item 2000\n",
       "\\item 2002\n",
       "\\item 2002\n",
       "\\item 2001\n",
       "\\item 2003\n",
       "\\item 2001\n",
       "\\item 2002\n",
       "\\item 2003\n",
       "\\item 2002\n",
       "\\item 2003\n",
       "\\item 2000\n",
       "\\item 2000\n",
       "\\item 2000\n",
       "\\item 2002\n",
       "\\item 2001\n",
       "\\item 2003\n",
       "\\item 2002\n",
       "\\item 2003\n",
       "\\item 2003\n",
       "\\item 2000\n",
       "\\item 2000\n",
       "\\item 2003\n",
       "\\item 2002\n",
       "\\item 2000\n",
       "\\item 2003\n",
       "\\item 2000\n",
       "\\item 2001\n",
       "\\item 2001\n",
       "\\item 2002\n",
       "\\item 2002\n",
       "\\item 2002\n",
       "\\item 2002\n",
       "\\item 2003\n",
       "\\item 2003\n",
       "\\item 2002\n",
       "\\item 2002\n",
       "\\item 2002\n",
       "\\item 2003\n",
       "\\item 2001\n",
       "\\item 2002\n",
       "\\item 2001\n",
       "\\item 2003\n",
       "\\item 2002\n",
       "\\item 2003\n",
       "\\item 2000\n",
       "\\item 2000\n",
       "\\item 2003\n",
       "\\item 2000\n",
       "\\item 2000\n",
       "\\item 2003\n",
       "\\item 2003\n",
       "\\item 2000\n",
       "\\item 2003\n",
       "\\item 2000\n",
       "\\item 2000\n",
       "\\item 2002\n",
       "\\item 2003\n",
       "\\item 2002\n",
       "\\item 2002\n",
       "\\item 2002\n",
       "\\item 2002\n",
       "\\item 2003\n",
       "\\item 2003\n",
       "\\item 2002\n",
       "\\item 2002\n",
       "\\item 2004\n",
       "\\item 2003\n",
       "\\item 2000\n",
       "\\item 2001\n",
       "\\item 2008\n",
       "\\item 2002\n",
       "\\item 2002\n",
       "\\item 2002\n",
       "\\item 2002\n",
       "\\item 2001\n",
       "\\item 2000\n",
       "\\item 2003\n",
       "\\item 2003\n",
       "\\item 2002\n",
       "\\item 2003\n",
       "\\item 2002\n",
       "\\item 2002\n",
       "\\item 2000\n",
       "\\item 2002\n",
       "\\item 2000\n",
       "\\item 2002\n",
       "\\item 2002\n",
       "\\item 2003\n",
       "\\item 2003\n",
       "\\item 2002\n",
       "\\item 2002\n",
       "\\item 2003\n",
       "\\item 2003\n",
       "\\item 2002\n",
       "\\item 2002\n",
       "\\item 2003\n",
       "\\item 2002\n",
       "\\item 2002\n",
       "\\item 2001\n",
       "\\item 2002\n",
       "\\item 2002\n",
       "\\item 2002\n",
       "\\item 2004\n",
       "\\item 2003\n",
       "\\item 2000\n",
       "\\item 2003\n",
       "\\item 2004\n",
       "\\item 2000\n",
       "\\item 2002\n",
       "\\item 2002\n",
       "\\item 2002\n",
       "\\item 2002\n",
       "\\item 2003\n",
       "\\item 2003\n",
       "\\item 2002\n",
       "\\item 2002\n",
       "\\item 2003\n",
       "\\item 2002\n",
       "\\item 2003\n",
       "\\item 2003\n",
       "\\item 2002\n",
       "\\item 2001\n",
       "\\item 2000\n",
       "\\item 2001\n",
       "\\item 2003\n",
       "\\item 2002\n",
       "\\item 2002\n",
       "\\item 2002\n",
       "\\item 2002\n",
       "\\item 2001\n",
       "\\end{enumerate*}\n"
      ],
      "text/markdown": [
       "1. 2003\n",
       "2. 2002\n",
       "3. 2000\n",
       "4. 2001\n",
       "5. 2000\n",
       "6. 2003\n",
       "7. 2000\n",
       "8. 2002\n",
       "9. 2000\n",
       "10. 2000\n",
       "11. 2000\n",
       "12. 2002\n",
       "13. 2000\n",
       "14. 2000\n",
       "15. 2003\n",
       "16. 2000\n",
       "17. 2003\n",
       "18. 2000\n",
       "19. 2000\n",
       "20. 2000\n",
       "21. 2002\n",
       "22. 2002\n",
       "23. 2000\n",
       "24. 2000\n",
       "25. 2002\n",
       "26. 2002\n",
       "27. 2003\n",
       "28. 2000\n",
       "29. 2000\n",
       "30. 2002\n",
       "31. 2002\n",
       "32. 2001\n",
       "33. 2003\n",
       "34. 2001\n",
       "35. 2002\n",
       "36. 2003\n",
       "37. 2002\n",
       "38. 2003\n",
       "39. 2000\n",
       "40. 2000\n",
       "41. 2000\n",
       "42. 2002\n",
       "43. 2001\n",
       "44. 2003\n",
       "45. 2002\n",
       "46. 2003\n",
       "47. 2003\n",
       "48. 2000\n",
       "49. 2000\n",
       "50. 2003\n",
       "51. 2002\n",
       "52. 2000\n",
       "53. 2003\n",
       "54. 2000\n",
       "55. 2001\n",
       "56. 2001\n",
       "57. 2002\n",
       "58. 2002\n",
       "59. 2002\n",
       "60. 2002\n",
       "61. 2003\n",
       "62. 2003\n",
       "63. 2002\n",
       "64. 2002\n",
       "65. 2002\n",
       "66. 2003\n",
       "67. 2001\n",
       "68. 2002\n",
       "69. 2001\n",
       "70. 2003\n",
       "71. 2002\n",
       "72. 2003\n",
       "73. 2000\n",
       "74. 2000\n",
       "75. 2003\n",
       "76. 2000\n",
       "77. 2000\n",
       "78. 2003\n",
       "79. 2003\n",
       "80. 2000\n",
       "81. 2003\n",
       "82. 2000\n",
       "83. 2000\n",
       "84. 2002\n",
       "85. 2003\n",
       "86. 2002\n",
       "87. 2002\n",
       "88. 2002\n",
       "89. 2002\n",
       "90. 2003\n",
       "91. 2003\n",
       "92. 2002\n",
       "93. 2002\n",
       "94. 2004\n",
       "95. 2003\n",
       "96. 2000\n",
       "97. 2001\n",
       "98. 2008\n",
       "99. 2002\n",
       "100. 2002\n",
       "101. 2002\n",
       "102. 2002\n",
       "103. 2001\n",
       "104. 2000\n",
       "105. 2003\n",
       "106. 2003\n",
       "107. 2002\n",
       "108. 2003\n",
       "109. 2002\n",
       "110. 2002\n",
       "111. 2000\n",
       "112. 2002\n",
       "113. 2000\n",
       "114. 2002\n",
       "115. 2002\n",
       "116. 2003\n",
       "117. 2003\n",
       "118. 2002\n",
       "119. 2002\n",
       "120. 2003\n",
       "121. 2003\n",
       "122. 2002\n",
       "123. 2002\n",
       "124. 2003\n",
       "125. 2002\n",
       "126. 2002\n",
       "127. 2001\n",
       "128. 2002\n",
       "129. 2002\n",
       "130. 2002\n",
       "131. 2004\n",
       "132. 2003\n",
       "133. 2000\n",
       "134. 2003\n",
       "135. 2004\n",
       "136. 2000\n",
       "137. 2002\n",
       "138. 2002\n",
       "139. 2002\n",
       "140. 2002\n",
       "141. 2003\n",
       "142. 2003\n",
       "143. 2002\n",
       "144. 2002\n",
       "145. 2003\n",
       "146. 2002\n",
       "147. 2003\n",
       "148. 2003\n",
       "149. 2002\n",
       "150. 2001\n",
       "151. 2000\n",
       "152. 2001\n",
       "153. 2003\n",
       "154. 2002\n",
       "155. 2002\n",
       "156. 2002\n",
       "157. 2002\n",
       "158. 2001\n",
       "\n",
       "\n"
      ],
      "text/plain": [
       "  [1] 2003 2002 2000 2001 2000 2003 2000 2002 2000 2000 2000 2002 2000 2000 2003\n",
       " [16] 2000 2003 2000 2000 2000 2002 2002 2000 2000 2002 2002 2003 2000 2000 2002\n",
       " [31] 2002 2001 2003 2001 2002 2003 2002 2003 2000 2000 2000 2002 2001 2003 2002\n",
       " [46] 2003 2003 2000 2000 2003 2002 2000 2003 2000 2001 2001 2002 2002 2002 2002\n",
       " [61] 2003 2003 2002 2002 2002 2003 2001 2002 2001 2003 2002 2003 2000 2000 2003\n",
       " [76] 2000 2000 2003 2003 2000 2003 2000 2000 2002 2003 2002 2002 2002 2002 2003\n",
       " [91] 2003 2002 2002 2004 2003 2000 2001 2008 2002 2002 2002 2002 2001 2000 2003\n",
       "[106] 2003 2002 2003 2002 2002 2000 2002 2000 2002 2002 2003 2003 2002 2002 2003\n",
       "[121] 2003 2002 2002 2003 2002 2002 2001 2002 2002 2002 2004 2003 2000 2003 2004\n",
       "[136] 2000 2002 2002 2002 2002 2003 2003 2002 2002 2003 2002 2003 2003 2002 2001\n",
       "[151] 2000 2001 2003 2002 2002 2002 2002 2001"
      ]
     },
     "metadata": {},
     "output_type": "display_data"
    }
   ],
   "source": [
    "# Try year() on the date colum\n",
    "year(format_data$date)"
   ]
  },
  {
   "cell_type": "code",
   "execution_count": 67,
   "id": "ca91ed81",
   "metadata": {},
   "outputs": [
    {
     "data": {
      "text/html": [
       "<table>\n",
       "<thead><tr><th scope=col>year</th><th scope=col>sample_size</th></tr></thead>\n",
       "<tbody>\n",
       "\t<tr><td>2000</td><td>37  </td></tr>\n",
       "\t<tr><td>2001</td><td>14  </td></tr>\n",
       "\t<tr><td>2002</td><td>61  </td></tr>\n",
       "\t<tr><td>2003</td><td>42  </td></tr>\n",
       "\t<tr><td>2004</td><td> 3  </td></tr>\n",
       "\t<tr><td>2008</td><td> 1  </td></tr>\n",
       "</tbody>\n",
       "</table>\n"
      ],
      "text/latex": [
       "\\begin{tabular}{r|ll}\n",
       " year & sample\\_size\\\\\n",
       "\\hline\n",
       "\t 2000 & 37  \\\\\n",
       "\t 2001 & 14  \\\\\n",
       "\t 2002 & 61  \\\\\n",
       "\t 2003 & 42  \\\\\n",
       "\t 2004 &  3  \\\\\n",
       "\t 2008 &  1  \\\\\n",
       "\\end{tabular}\n"
      ],
      "text/markdown": [
       "\n",
       "| year | sample_size |\n",
       "|---|---|\n",
       "| 2000 | 37   |\n",
       "| 2001 | 14   |\n",
       "| 2002 | 61   |\n",
       "| 2003 | 42   |\n",
       "| 2004 |  3   |\n",
       "| 2008 |  1   |\n",
       "\n"
      ],
      "text/plain": [
       "  year sample_size\n",
       "1 2000 37         \n",
       "2 2001 14         \n",
       "3 2002 61         \n",
       "4 2003 42         \n",
       "5 2004  3         \n",
       "6 2008  1         "
      ]
     },
     "metadata": {},
     "output_type": "display_data"
    },
    {
     "data": {
      "image/png": "[encoded data removed]",
      "text/plain": [
       "plot without title"
      ]
     },
     "metadata": {
      "image/png": {
       "height": 420,
       "width": 420
      }
     },
     "output_type": "display_data"
    }
   ],
   "source": [
    "# entries per group\n",
    "counts = format_data %>% \n",
    "    mutate(year = year(date)) %>%                \n",
    "    group_by(year) %>%\n",
    "    summarise(sample_size = n())\n",
    "counts\n",
    "\n",
    "ggplot(counts) +\n",
    "  geom_point(mapping = aes(year, sample_size))"
   ]
  },
  {
   "cell_type": "markdown",
   "id": "9f9ab75c",
   "metadata": {},
   "source": [
    "* Remove all entries that belong to a year for which there are less than 5 entries\n",
    "  * E.g. there is only one entry for 2008, so we can remove it. \n",
    "* Save the data to a new tibble"
   ]
  },
  {
   "cell_type": "code",
   "execution_count": 68,
   "id": "4ebe2e4c",
   "metadata": {},
   "outputs": [
    {
     "data": {
      "text/html": [
       "<table>\n",
       "<thead><tr><th scope=col>date</th><th scope=col>length</th><th scope=col>age</th><th scope=col>maturity</th><th scope=col>stage</th><th scope=col>year</th></tr></thead>\n",
       "<tbody>\n",
       "\t<tr><td>2003-09-02</td><td>31        </td><td>10        </td><td>Immature  </td><td>1         </td><td>2003      </td></tr>\n",
       "\t<tr><td>2002-10-07</td><td>32        </td><td> 6        </td><td>Immature  </td><td>1         </td><td>2002      </td></tr>\n",
       "\t<tr><td>2000-07-18</td><td>32        </td><td>11        </td><td>Immature  </td><td>1         </td><td>2000      </td></tr>\n",
       "\t<tr><td>2001-06-11</td><td>32        </td><td>11        </td><td>Immature  </td><td>2         </td><td>2001      </td></tr>\n",
       "\t<tr><td>2000-08-08</td><td>32        </td><td>13        </td><td>Immature  </td><td>2         </td><td>2000      </td></tr>\n",
       "\t<tr><td>2003-10-04</td><td>33        </td><td> 9        </td><td>Immature  </td><td>1         </td><td>2003      </td></tr>\n",
       "</tbody>\n",
       "</table>\n"
      ],
      "text/latex": [
       "\\begin{tabular}{r|llllll}\n",
       " date & length & age & maturity & stage & year\\\\\n",
       "\\hline\n",
       "\t 2003-09-02 & 31         & 10         & Immature   & 1          & 2003      \\\\\n",
       "\t 2002-10-07 & 32         &  6         & Immature   & 1          & 2002      \\\\\n",
       "\t 2000-07-18 & 32         & 11         & Immature   & 1          & 2000      \\\\\n",
       "\t 2001-06-11 & 32         & 11         & Immature   & 2          & 2001      \\\\\n",
       "\t 2000-08-08 & 32         & 13         & Immature   & 2          & 2000      \\\\\n",
       "\t 2003-10-04 & 33         &  9         & Immature   & 1          & 2003      \\\\\n",
       "\\end{tabular}\n"
      ],
      "text/markdown": [
       "\n",
       "| date | length | age | maturity | stage | year |\n",
       "|---|---|---|---|---|---|\n",
       "| 2003-09-02 | 31         | 10         | Immature   | 1          | 2003       |\n",
       "| 2002-10-07 | 32         |  6         | Immature   | 1          | 2002       |\n",
       "| 2000-07-18 | 32         | 11         | Immature   | 1          | 2000       |\n",
       "| 2001-06-11 | 32         | 11         | Immature   | 2          | 2001       |\n",
       "| 2000-08-08 | 32         | 13         | Immature   | 2          | 2000       |\n",
       "| 2003-10-04 | 33         |  9         | Immature   | 1          | 2003       |\n",
       "\n"
      ],
      "text/plain": [
       "  date       length age maturity stage year\n",
       "1 2003-09-02 31     10  Immature 1     2003\n",
       "2 2002-10-07 32      6  Immature 1     2002\n",
       "3 2000-07-18 32     11  Immature 1     2000\n",
       "4 2001-06-11 32     11  Immature 2     2001\n",
       "5 2000-08-08 32     13  Immature 2     2000\n",
       "6 2003-10-04 33      9  Immature 1     2003"
      ]
     },
     "metadata": {},
     "output_type": "display_data"
    },
    {
     "data": {
      "text/html": [
       "<table>\n",
       "<thead><tr><th scope=col>date</th><th scope=col>length</th><th scope=col>age</th><th scope=col>maturity</th><th scope=col>stage</th><th scope=col>year</th></tr></thead>\n",
       "<tbody>\n",
       "\t<tr><td>2003-09-02</td><td>31        </td><td>10        </td><td>Immature  </td><td>1         </td><td>2003      </td></tr>\n",
       "\t<tr><td>2002-10-07</td><td>32        </td><td> 6        </td><td>Immature  </td><td>1         </td><td>2002      </td></tr>\n",
       "\t<tr><td>2000-07-18</td><td>32        </td><td>11        </td><td>Immature  </td><td>1         </td><td>2000      </td></tr>\n",
       "\t<tr><td>2001-06-11</td><td>32        </td><td>11        </td><td>Immature  </td><td>2         </td><td>2001      </td></tr>\n",
       "\t<tr><td>2000-08-08</td><td>32        </td><td>13        </td><td>Immature  </td><td>2         </td><td>2000      </td></tr>\n",
       "\t<tr><td>2003-10-04</td><td>33        </td><td> 9        </td><td>Immature  </td><td>1         </td><td>2003      </td></tr>\n",
       "</tbody>\n",
       "</table>\n"
      ],
      "text/latex": [
       "\\begin{tabular}{r|llllll}\n",
       " date & length & age & maturity & stage & year\\\\\n",
       "\\hline\n",
       "\t 2003-09-02 & 31         & 10         & Immature   & 1          & 2003      \\\\\n",
       "\t 2002-10-07 & 32         &  6         & Immature   & 1          & 2002      \\\\\n",
       "\t 2000-07-18 & 32         & 11         & Immature   & 1          & 2000      \\\\\n",
       "\t 2001-06-11 & 32         & 11         & Immature   & 2          & 2001      \\\\\n",
       "\t 2000-08-08 & 32         & 13         & Immature   & 2          & 2000      \\\\\n",
       "\t 2003-10-04 & 33         &  9         & Immature   & 1          & 2003      \\\\\n",
       "\\end{tabular}\n"
      ],
      "text/markdown": [
       "\n",
       "| date | length | age | maturity | stage | year |\n",
       "|---|---|---|---|---|---|\n",
       "| 2003-09-02 | 31         | 10         | Immature   | 1          | 2003       |\n",
       "| 2002-10-07 | 32         |  6         | Immature   | 1          | 2002       |\n",
       "| 2000-07-18 | 32         | 11         | Immature   | 1          | 2000       |\n",
       "| 2001-06-11 | 32         | 11         | Immature   | 2          | 2001       |\n",
       "| 2000-08-08 | 32         | 13         | Immature   | 2          | 2000       |\n",
       "| 2003-10-04 | 33         |  9         | Immature   | 1          | 2003       |\n",
       "\n"
      ],
      "text/plain": [
       "  date       length age maturity stage year\n",
       "1 2003-09-02 31     10  Immature 1     2003\n",
       "2 2002-10-07 32      6  Immature 1     2002\n",
       "3 2000-07-18 32     11  Immature 1     2000\n",
       "4 2001-06-11 32     11  Immature 2     2001\n",
       "5 2000-08-08 32     13  Immature 2     2000\n",
       "6 2003-10-04 33      9  Immature 1     2003"
      ]
     },
     "metadata": {},
     "output_type": "display_data"
    }
   ],
   "source": [
    "# remove years with less than 5 entries  \n",
    "survey_yr = format_data %>% \n",
    "    mutate(year = year(date))\n",
    "head(survey_yr)\n",
    "\n",
    "filter_data_yr <- subset(survey_yr, year !=2004 & year != 2008)\n",
    "head(filter_data_yr)"
   ]
  },
  {
   "cell_type": "markdown",
   "id": "f1edf4ac",
   "metadata": {},
   "source": [
    "* Count the number of entries and make sure there are less observations "
   ]
  },
  {
   "cell_type": "code",
   "execution_count": 69,
   "id": "dbfe9ecb",
   "metadata": {
    "scrolled": true
   },
   "outputs": [
    {
     "data": {
      "text/html": [
       "154"
      ],
      "text/latex": [
       "154"
      ],
      "text/markdown": [
       "154"
      ],
      "text/plain": [
       "[1] 154"
      ]
     },
     "metadata": {},
     "output_type": "display_data"
    }
   ],
   "source": [
    "# number of entries \n",
    "nrow(filter_data_yr)"
   ]
  },
  {
   "cell_type": "markdown",
   "id": "bd0dade9",
   "metadata": {},
   "source": [
    "* Model the fish maturity using the fish length \n",
    "  * i.e. predict maturity from the lengh data\n",
    "\n",
    "* You can make any changes to the data needed to build this model"
   ]
  },
  {
   "cell_type": "code",
   "execution_count": 70,
   "id": "d87d41a0",
   "metadata": {},
   "outputs": [
    {
     "data": {
      "text/html": [
       "<table>\n",
       "<thead><tr><th scope=col>date</th><th scope=col>length</th><th scope=col>age</th><th scope=col>maturity</th><th scope=col>stage</th><th scope=col>year</th></tr></thead>\n",
       "<tbody>\n",
       "\t<tr><td>2003-09-02</td><td>31        </td><td>10        </td><td>Immature  </td><td>1         </td><td>2003      </td></tr>\n",
       "\t<tr><td>2002-10-07</td><td>32        </td><td> 6        </td><td>Immature  </td><td>1         </td><td>2002      </td></tr>\n",
       "\t<tr><td>2000-07-18</td><td>32        </td><td>11        </td><td>Immature  </td><td>1         </td><td>2000      </td></tr>\n",
       "\t<tr><td>2001-06-11</td><td>32        </td><td>11        </td><td>Immature  </td><td>2         </td><td>2001      </td></tr>\n",
       "\t<tr><td>2000-08-08</td><td>32        </td><td>13        </td><td>Immature  </td><td>2         </td><td>2000      </td></tr>\n",
       "\t<tr><td>2003-10-04</td><td>33        </td><td> 9        </td><td>Immature  </td><td>1         </td><td>2003      </td></tr>\n",
       "\t<tr><td>2000-07-17</td><td>33        </td><td>10        </td><td>Immature  </td><td>1         </td><td>2000      </td></tr>\n",
       "\t<tr><td>2002-08-18</td><td>34        </td><td> 8        </td><td>Immature  </td><td>1         </td><td>2002      </td></tr>\n",
       "\t<tr><td>2000-07-12</td><td>34        </td><td>10        </td><td>Immature  </td><td>1         </td><td>2000      </td></tr>\n",
       "\t<tr><td>2000-07-25</td><td>34        </td><td>11        </td><td>Immature  </td><td>1         </td><td>2000      </td></tr>\n",
       "\t<tr><td>2000-07-17</td><td>35        </td><td>11        </td><td>Immature  </td><td>1         </td><td>2000      </td></tr>\n",
       "\t<tr><td>2002-07-13</td><td>35        </td><td>12        </td><td>Immature  </td><td>1         </td><td>2002      </td></tr>\n",
       "\t<tr><td>2000-07-17</td><td>36        </td><td>10        </td><td>Immature  </td><td>1         </td><td>2000      </td></tr>\n",
       "\t<tr><td>2000-08-06</td><td>36        </td><td>10        </td><td>Mature    </td><td>2         </td><td>2000      </td></tr>\n",
       "\t<tr><td>2003-07-16</td><td>36        </td><td>10        </td><td>Mature    </td><td>1         </td><td>2003      </td></tr>\n",
       "\t<tr><td>2000-07-25</td><td>36        </td><td>12        </td><td>Immature  </td><td>1         </td><td>2000      </td></tr>\n",
       "\t<tr><td>2003-08-27</td><td>37        </td><td> 9        </td><td>Immature  </td><td>1         </td><td>2003      </td></tr>\n",
       "\t<tr><td>2000-07-18</td><td>37        </td><td> 9        </td><td>Mature    </td><td>2         </td><td>2000      </td></tr>\n",
       "\t<tr><td>2000-07-25</td><td>37        </td><td>11        </td><td>Immature  </td><td>1         </td><td>2000      </td></tr>\n",
       "\t<tr><td>2000-05-13</td><td>37        </td><td>14        </td><td>Immature  </td><td>1         </td><td>2000      </td></tr>\n",
       "\t<tr><td>2002-06-21</td><td>37        </td><td>17        </td><td>Mature    </td><td>1         </td><td>2002      </td></tr>\n",
       "\t<tr><td>2002-06-03</td><td>38        </td><td> 9        </td><td>NA        </td><td>2         </td><td>2002      </td></tr>\n",
       "\t<tr><td>2000-08-12</td><td>38        </td><td>10        </td><td>Immature  </td><td>2         </td><td>2000      </td></tr>\n",
       "\t<tr><td>2000-07-18</td><td>38        </td><td>11        </td><td>Immature  </td><td>2         </td><td>2000      </td></tr>\n",
       "\t<tr><td>2002-06-21</td><td>38        </td><td>12        </td><td>Immature  </td><td>1         </td><td>2002      </td></tr>\n",
       "\t<tr><td>2002-06-16</td><td>38        </td><td>18        </td><td>Mature    </td><td>2         </td><td>2002      </td></tr>\n",
       "\t<tr><td>2003-10-03</td><td>39        </td><td>11        </td><td>Immature  </td><td>2         </td><td>2003      </td></tr>\n",
       "\t<tr><td>2000-08-06</td><td>39        </td><td>11        </td><td>Mature    </td><td>2         </td><td>2000      </td></tr>\n",
       "\t<tr><td>2000-05-13</td><td>39        </td><td>13        </td><td>Immature  </td><td>1         </td><td>2000      </td></tr>\n",
       "\t<tr><td>2002-08-30</td><td>39        </td><td>14        </td><td>Mature    </td><td>6         </td><td>2002      </td></tr>\n",
       "\t<tr><td>...</td><td>...</td><td>...</td><td>...</td><td>...</td><td>...</td></tr>\n",
       "\t<tr><td>2001-05-21</td><td>52        </td><td>13        </td><td>Mature    </td><td>6         </td><td>2001      </td></tr>\n",
       "\t<tr><td>2002-10-07</td><td>52        </td><td>30        </td><td>Mature    </td><td>6         </td><td>2002      </td></tr>\n",
       "\t<tr><td>2002-06-16</td><td>52        </td><td>30        </td><td>Mature    </td><td>6         </td><td>2002      </td></tr>\n",
       "\t<tr><td>2002-06-03</td><td>52        </td><td>31        </td><td>Mature    </td><td>2         </td><td>2002      </td></tr>\n",
       "\t<tr><td>2003-09-07</td><td>53        </td><td>18        </td><td>NA        </td><td>2         </td><td>2003      </td></tr>\n",
       "\t<tr><td>2000-05-04</td><td>53        </td><td>26        </td><td>Mature    </td><td>5         </td><td>2000      </td></tr>\n",
       "\t<tr><td>2003-10-04</td><td>53        </td><td>28        </td><td>Mature    </td><td>7         </td><td>2003      </td></tr>\n",
       "\t<tr><td>2000-05-04</td><td>53        </td><td>29        </td><td>Mature    </td><td>5         </td><td>2000      </td></tr>\n",
       "\t<tr><td>2002-10-07</td><td>53        </td><td>30        </td><td>Mature    </td><td>6         </td><td>2002      </td></tr>\n",
       "\t<tr><td>2002-08-05</td><td>54        </td><td>20        </td><td>Mature    </td><td>6         </td><td>2002      </td></tr>\n",
       "\t<tr><td>2002-06-16</td><td>54        </td><td>42        </td><td>Mature    </td><td>3         </td><td>2002      </td></tr>\n",
       "\t<tr><td>2002-09-01</td><td>56        </td><td>44        </td><td>Mature    </td><td>6         </td><td>2002      </td></tr>\n",
       "\t<tr><td>2003-07-05</td><td>57        </td><td>18        </td><td>Mature    </td><td>7         </td><td>2003      </td></tr>\n",
       "\t<tr><td>2003-05-03</td><td>57        </td><td>19        </td><td>Mature    </td><td>3         </td><td>2003      </td></tr>\n",
       "\t<tr><td>2002-08-18</td><td>57        </td><td>32        </td><td>Mature    </td><td>6         </td><td>2002      </td></tr>\n",
       "\t<tr><td>2002-07-28</td><td>57        </td><td>70        </td><td>Mature    </td><td>6         </td><td>2002      </td></tr>\n",
       "\t<tr><td>2003-06-13</td><td>58        </td><td>32        </td><td>Mature    </td><td>4         </td><td>2003      </td></tr>\n",
       "\t<tr><td>2002-08-06</td><td>58        </td><td>39        </td><td>Mature    </td><td>6         </td><td>2002      </td></tr>\n",
       "\t<tr><td>2003-08-26</td><td>60        </td><td>28        </td><td>Mature    </td><td>5         </td><td>2003      </td></tr>\n",
       "\t<tr><td>2003-10-06</td><td>60        </td><td>28        </td><td>Mature    </td><td>7         </td><td>2003      </td></tr>\n",
       "\t<tr><td>2002-07-26</td><td>60        </td><td>33        </td><td>Mature    </td><td>6         </td><td>2002      </td></tr>\n",
       "\t<tr><td>2001-05-18</td><td>61        </td><td>42        </td><td>Mature    </td><td>4         </td><td>2001      </td></tr>\n",
       "\t<tr><td>2000-08-08</td><td>61        </td><td>89        </td><td>Mature    </td><td>6         </td><td>2000      </td></tr>\n",
       "\t<tr><td>2001-04-23</td><td>62        </td><td>61        </td><td>Mature    </td><td>6         </td><td>2001      </td></tr>\n",
       "\t<tr><td>2003-08-14</td><td>64        </td><td>42        </td><td>Mature    </td><td>7         </td><td>2003      </td></tr>\n",
       "\t<tr><td>2002-08-09</td><td>65        </td><td>54        </td><td>Mature    </td><td>6         </td><td>2002      </td></tr>\n",
       "\t<tr><td>2002-10-07</td><td>65        </td><td>94        </td><td>Mature    </td><td>6         </td><td>2002      </td></tr>\n",
       "\t<tr><td>2002-08-18</td><td>67        </td><td>50        </td><td>Mature    </td><td>6         </td><td>2002      </td></tr>\n",
       "\t<tr><td>2002-10-07</td><td>68        </td><td>88        </td><td>Mature    </td><td>6         </td><td>2002      </td></tr>\n",
       "\t<tr><td>2001-04-23</td><td>70        </td><td>66        </td><td>Mature    </td><td>4         </td><td>2001      </td></tr>\n",
       "</tbody>\n",
       "</table>\n"
      ],
      "text/latex": [
       "\\begin{tabular}{r|llllll}\n",
       " date & length & age & maturity & stage & year\\\\\n",
       "\\hline\n",
       "\t 2003-09-02 & 31         & 10         & Immature   & 1          & 2003      \\\\\n",
       "\t 2002-10-07 & 32         &  6         & Immature   & 1          & 2002      \\\\\n",
       "\t 2000-07-18 & 32         & 11         & Immature   & 1          & 2000      \\\\\n",
       "\t 2001-06-11 & 32         & 11         & Immature   & 2          & 2001      \\\\\n",
       "\t 2000-08-08 & 32         & 13         & Immature   & 2          & 2000      \\\\\n",
       "\t 2003-10-04 & 33         &  9         & Immature   & 1          & 2003      \\\\\n",
       "\t 2000-07-17 & 33         & 10         & Immature   & 1          & 2000      \\\\\n",
       "\t 2002-08-18 & 34         &  8         & Immature   & 1          & 2002      \\\\\n",
       "\t 2000-07-12 & 34         & 10         & Immature   & 1          & 2000      \\\\\n",
       "\t 2000-07-25 & 34         & 11         & Immature   & 1          & 2000      \\\\\n",
       "\t 2000-07-17 & 35         & 11         & Immature   & 1          & 2000      \\\\\n",
       "\t 2002-07-13 & 35         & 12         & Immature   & 1          & 2002      \\\\\n",
       "\t 2000-07-17 & 36         & 10         & Immature   & 1          & 2000      \\\\\n",
       "\t 2000-08-06 & 36         & 10         & Mature     & 2          & 2000      \\\\\n",
       "\t 2003-07-16 & 36         & 10         & Mature     & 1          & 2003      \\\\\n",
       "\t 2000-07-25 & 36         & 12         & Immature   & 1          & 2000      \\\\\n",
       "\t 2003-08-27 & 37         &  9         & Immature   & 1          & 2003      \\\\\n",
       "\t 2000-07-18 & 37         &  9         & Mature     & 2          & 2000      \\\\\n",
       "\t 2000-07-25 & 37         & 11         & Immature   & 1          & 2000      \\\\\n",
       "\t 2000-05-13 & 37         & 14         & Immature   & 1          & 2000      \\\\\n",
       "\t 2002-06-21 & 37         & 17         & Mature     & 1          & 2002      \\\\\n",
       "\t 2002-06-03 & 38         &  9         & NA         & 2          & 2002      \\\\\n",
       "\t 2000-08-12 & 38         & 10         & Immature   & 2          & 2000      \\\\\n",
       "\t 2000-07-18 & 38         & 11         & Immature   & 2          & 2000      \\\\\n",
       "\t 2002-06-21 & 38         & 12         & Immature   & 1          & 2002      \\\\\n",
       "\t 2002-06-16 & 38         & 18         & Mature     & 2          & 2002      \\\\\n",
       "\t 2003-10-03 & 39         & 11         & Immature   & 2          & 2003      \\\\\n",
       "\t 2000-08-06 & 39         & 11         & Mature     & 2          & 2000      \\\\\n",
       "\t 2000-05-13 & 39         & 13         & Immature   & 1          & 2000      \\\\\n",
       "\t 2002-08-30 & 39         & 14         & Mature     & 6          & 2002      \\\\\n",
       "\t ... & ... & ... & ... & ... & ...\\\\\n",
       "\t 2001-05-21 & 52         & 13         & Mature     & 6          & 2001      \\\\\n",
       "\t 2002-10-07 & 52         & 30         & Mature     & 6          & 2002      \\\\\n",
       "\t 2002-06-16 & 52         & 30         & Mature     & 6          & 2002      \\\\\n",
       "\t 2002-06-03 & 52         & 31         & Mature     & 2          & 2002      \\\\\n",
       "\t 2003-09-07 & 53         & 18         & NA         & 2          & 2003      \\\\\n",
       "\t 2000-05-04 & 53         & 26         & Mature     & 5          & 2000      \\\\\n",
       "\t 2003-10-04 & 53         & 28         & Mature     & 7          & 2003      \\\\\n",
       "\t 2000-05-04 & 53         & 29         & Mature     & 5          & 2000      \\\\\n",
       "\t 2002-10-07 & 53         & 30         & Mature     & 6          & 2002      \\\\\n",
       "\t 2002-08-05 & 54         & 20         & Mature     & 6          & 2002      \\\\\n",
       "\t 2002-06-16 & 54         & 42         & Mature     & 3          & 2002      \\\\\n",
       "\t 2002-09-01 & 56         & 44         & Mature     & 6          & 2002      \\\\\n",
       "\t 2003-07-05 & 57         & 18         & Mature     & 7          & 2003      \\\\\n",
       "\t 2003-05-03 & 57         & 19         & Mature     & 3          & 2003      \\\\\n",
       "\t 2002-08-18 & 57         & 32         & Mature     & 6          & 2002      \\\\\n",
       "\t 2002-07-28 & 57         & 70         & Mature     & 6          & 2002      \\\\\n",
       "\t 2003-06-13 & 58         & 32         & Mature     & 4          & 2003      \\\\\n",
       "\t 2002-08-06 & 58         & 39         & Mature     & 6          & 2002      \\\\\n",
       "\t 2003-08-26 & 60         & 28         & Mature     & 5          & 2003      \\\\\n",
       "\t 2003-10-06 & 60         & 28         & Mature     & 7          & 2003      \\\\\n",
       "\t 2002-07-26 & 60         & 33         & Mature     & 6          & 2002      \\\\\n",
       "\t 2001-05-18 & 61         & 42         & Mature     & 4          & 2001      \\\\\n",
       "\t 2000-08-08 & 61         & 89         & Mature     & 6          & 2000      \\\\\n",
       "\t 2001-04-23 & 62         & 61         & Mature     & 6          & 2001      \\\\\n",
       "\t 2003-08-14 & 64         & 42         & Mature     & 7          & 2003      \\\\\n",
       "\t 2002-08-09 & 65         & 54         & Mature     & 6          & 2002      \\\\\n",
       "\t 2002-10-07 & 65         & 94         & Mature     & 6          & 2002      \\\\\n",
       "\t 2002-08-18 & 67         & 50         & Mature     & 6          & 2002      \\\\\n",
       "\t 2002-10-07 & 68         & 88         & Mature     & 6          & 2002      \\\\\n",
       "\t 2001-04-23 & 70         & 66         & Mature     & 4          & 2001      \\\\\n",
       "\\end{tabular}\n"
      ],
      "text/markdown": [
       "\n",
       "| date | length | age | maturity | stage | year |\n",
       "|---|---|---|---|---|---|\n",
       "| 2003-09-02 | 31         | 10         | Immature   | 1          | 2003       |\n",
       "| 2002-10-07 | 32         |  6         | Immature   | 1          | 2002       |\n",
       "| 2000-07-18 | 32         | 11         | Immature   | 1          | 2000       |\n",
       "| 2001-06-11 | 32         | 11         | Immature   | 2          | 2001       |\n",
       "| 2000-08-08 | 32         | 13         | Immature   | 2          | 2000       |\n",
       "| 2003-10-04 | 33         |  9         | Immature   | 1          | 2003       |\n",
       "| 2000-07-17 | 33         | 10         | Immature   | 1          | 2000       |\n",
       "| 2002-08-18 | 34         |  8         | Immature   | 1          | 2002       |\n",
       "| 2000-07-12 | 34         | 10         | Immature   | 1          | 2000       |\n",
       "| 2000-07-25 | 34         | 11         | Immature   | 1          | 2000       |\n",
       "| 2000-07-17 | 35         | 11         | Immature   | 1          | 2000       |\n",
       "| 2002-07-13 | 35         | 12         | Immature   | 1          | 2002       |\n",
       "| 2000-07-17 | 36         | 10         | Immature   | 1          | 2000       |\n",
       "| 2000-08-06 | 36         | 10         | Mature     | 2          | 2000       |\n",
       "| 2003-07-16 | 36         | 10         | Mature     | 1          | 2003       |\n",
       "| 2000-07-25 | 36         | 12         | Immature   | 1          | 2000       |\n",
       "| 2003-08-27 | 37         |  9         | Immature   | 1          | 2003       |\n",
       "| 2000-07-18 | 37         |  9         | Mature     | 2          | 2000       |\n",
       "| 2000-07-25 | 37         | 11         | Immature   | 1          | 2000       |\n",
       "| 2000-05-13 | 37         | 14         | Immature   | 1          | 2000       |\n",
       "| 2002-06-21 | 37         | 17         | Mature     | 1          | 2002       |\n",
       "| 2002-06-03 | 38         |  9         | NA         | 2          | 2002       |\n",
       "| 2000-08-12 | 38         | 10         | Immature   | 2          | 2000       |\n",
       "| 2000-07-18 | 38         | 11         | Immature   | 2          | 2000       |\n",
       "| 2002-06-21 | 38         | 12         | Immature   | 1          | 2002       |\n",
       "| 2002-06-16 | 38         | 18         | Mature     | 2          | 2002       |\n",
       "| 2003-10-03 | 39         | 11         | Immature   | 2          | 2003       |\n",
       "| 2000-08-06 | 39         | 11         | Mature     | 2          | 2000       |\n",
       "| 2000-05-13 | 39         | 13         | Immature   | 1          | 2000       |\n",
       "| 2002-08-30 | 39         | 14         | Mature     | 6          | 2002       |\n",
       "| ... | ... | ... | ... | ... | ... |\n",
       "| 2001-05-21 | 52         | 13         | Mature     | 6          | 2001       |\n",
       "| 2002-10-07 | 52         | 30         | Mature     | 6          | 2002       |\n",
       "| 2002-06-16 | 52         | 30         | Mature     | 6          | 2002       |\n",
       "| 2002-06-03 | 52         | 31         | Mature     | 2          | 2002       |\n",
       "| 2003-09-07 | 53         | 18         | NA         | 2          | 2003       |\n",
       "| 2000-05-04 | 53         | 26         | Mature     | 5          | 2000       |\n",
       "| 2003-10-04 | 53         | 28         | Mature     | 7          | 2003       |\n",
       "| 2000-05-04 | 53         | 29         | Mature     | 5          | 2000       |\n",
       "| 2002-10-07 | 53         | 30         | Mature     | 6          | 2002       |\n",
       "| 2002-08-05 | 54         | 20         | Mature     | 6          | 2002       |\n",
       "| 2002-06-16 | 54         | 42         | Mature     | 3          | 2002       |\n",
       "| 2002-09-01 | 56         | 44         | Mature     | 6          | 2002       |\n",
       "| 2003-07-05 | 57         | 18         | Mature     | 7          | 2003       |\n",
       "| 2003-05-03 | 57         | 19         | Mature     | 3          | 2003       |\n",
       "| 2002-08-18 | 57         | 32         | Mature     | 6          | 2002       |\n",
       "| 2002-07-28 | 57         | 70         | Mature     | 6          | 2002       |\n",
       "| 2003-06-13 | 58         | 32         | Mature     | 4          | 2003       |\n",
       "| 2002-08-06 | 58         | 39         | Mature     | 6          | 2002       |\n",
       "| 2003-08-26 | 60         | 28         | Mature     | 5          | 2003       |\n",
       "| 2003-10-06 | 60         | 28         | Mature     | 7          | 2003       |\n",
       "| 2002-07-26 | 60         | 33         | Mature     | 6          | 2002       |\n",
       "| 2001-05-18 | 61         | 42         | Mature     | 4          | 2001       |\n",
       "| 2000-08-08 | 61         | 89         | Mature     | 6          | 2000       |\n",
       "| 2001-04-23 | 62         | 61         | Mature     | 6          | 2001       |\n",
       "| 2003-08-14 | 64         | 42         | Mature     | 7          | 2003       |\n",
       "| 2002-08-09 | 65         | 54         | Mature     | 6          | 2002       |\n",
       "| 2002-10-07 | 65         | 94         | Mature     | 6          | 2002       |\n",
       "| 2002-08-18 | 67         | 50         | Mature     | 6          | 2002       |\n",
       "| 2002-10-07 | 68         | 88         | Mature     | 6          | 2002       |\n",
       "| 2001-04-23 | 70         | 66         | Mature     | 4          | 2001       |\n",
       "\n"
      ],
      "text/plain": [
       "    date       length age maturity stage year\n",
       "1   2003-09-02 31     10  Immature 1     2003\n",
       "2   2002-10-07 32      6  Immature 1     2002\n",
       "3   2000-07-18 32     11  Immature 1     2000\n",
       "4   2001-06-11 32     11  Immature 2     2001\n",
       "5   2000-08-08 32     13  Immature 2     2000\n",
       "6   2003-10-04 33      9  Immature 1     2003\n",
       "7   2000-07-17 33     10  Immature 1     2000\n",
       "8   2002-08-18 34      8  Immature 1     2002\n",
       "9   2000-07-12 34     10  Immature 1     2000\n",
       "10  2000-07-25 34     11  Immature 1     2000\n",
       "11  2000-07-17 35     11  Immature 1     2000\n",
       "12  2002-07-13 35     12  Immature 1     2002\n",
       "13  2000-07-17 36     10  Immature 1     2000\n",
       "14  2000-08-06 36     10  Mature   2     2000\n",
       "15  2003-07-16 36     10  Mature   1     2003\n",
       "16  2000-07-25 36     12  Immature 1     2000\n",
       "17  2003-08-27 37      9  Immature 1     2003\n",
       "18  2000-07-18 37      9  Mature   2     2000\n",
       "19  2000-07-25 37     11  Immature 1     2000\n",
       "20  2000-05-13 37     14  Immature 1     2000\n",
       "21  2002-06-21 37     17  Mature   1     2002\n",
       "22  2002-06-03 38      9  NA       2     2002\n",
       "23  2000-08-12 38     10  Immature 2     2000\n",
       "24  2000-07-18 38     11  Immature 2     2000\n",
       "25  2002-06-21 38     12  Immature 1     2002\n",
       "26  2002-06-16 38     18  Mature   2     2002\n",
       "27  2003-10-03 39     11  Immature 2     2003\n",
       "28  2000-08-06 39     11  Mature   2     2000\n",
       "29  2000-05-13 39     13  Immature 1     2000\n",
       "30  2002-08-30 39     14  Mature   6     2002\n",
       "... ...        ...    ... ...      ...   ... \n",
       "125 2001-05-21 52     13  Mature   6     2001\n",
       "126 2002-10-07 52     30  Mature   6     2002\n",
       "127 2002-06-16 52     30  Mature   6     2002\n",
       "128 2002-06-03 52     31  Mature   2     2002\n",
       "129 2003-09-07 53     18  NA       2     2003\n",
       "130 2000-05-04 53     26  Mature   5     2000\n",
       "131 2003-10-04 53     28  Mature   7     2003\n",
       "132 2000-05-04 53     29  Mature   5     2000\n",
       "133 2002-10-07 53     30  Mature   6     2002\n",
       "134 2002-08-05 54     20  Mature   6     2002\n",
       "135 2002-06-16 54     42  Mature   3     2002\n",
       "136 2002-09-01 56     44  Mature   6     2002\n",
       "137 2003-07-05 57     18  Mature   7     2003\n",
       "138 2003-05-03 57     19  Mature   3     2003\n",
       "139 2002-08-18 57     32  Mature   6     2002\n",
       "140 2002-07-28 57     70  Mature   6     2002\n",
       "141 2003-06-13 58     32  Mature   4     2003\n",
       "142 2002-08-06 58     39  Mature   6     2002\n",
       "143 2003-08-26 60     28  Mature   5     2003\n",
       "144 2003-10-06 60     28  Mature   7     2003\n",
       "145 2002-07-26 60     33  Mature   6     2002\n",
       "146 2001-05-18 61     42  Mature   4     2001\n",
       "147 2000-08-08 61     89  Mature   6     2000\n",
       "148 2001-04-23 62     61  Mature   6     2001\n",
       "149 2003-08-14 64     42  Mature   7     2003\n",
       "150 2002-08-09 65     54  Mature   6     2002\n",
       "151 2002-10-07 65     94  Mature   6     2002\n",
       "152 2002-08-18 67     50  Mature   6     2002\n",
       "153 2002-10-07 68     88  Mature   6     2002\n",
       "154 2001-04-23 70     66  Mature   4     2001"
      ]
     },
     "metadata": {},
     "output_type": "display_data"
    }
   ],
   "source": [
    "### model fish maturity using fish length\n",
    "\n",
    "# 1. data without 2004 and 2008\n",
    "filter_data_yr"
   ]
  },
  {
   "cell_type": "code",
   "execution_count": 71,
   "id": "ff398660",
   "metadata": {},
   "outputs": [
    {
     "data": {
      "text/html": [
       "<table>\n",
       "<thead><tr><th scope=col>length</th><th scope=col>maturity</th></tr></thead>\n",
       "<tbody>\n",
       "\t<tr><td>31      </td><td>Immature</td></tr>\n",
       "\t<tr><td>32      </td><td>Immature</td></tr>\n",
       "\t<tr><td>32      </td><td>Immature</td></tr>\n",
       "\t<tr><td>32      </td><td>Immature</td></tr>\n",
       "\t<tr><td>32      </td><td>Immature</td></tr>\n",
       "\t<tr><td>33      </td><td>Immature</td></tr>\n",
       "</tbody>\n",
       "</table>\n"
      ],
      "text/latex": [
       "\\begin{tabular}{r|ll}\n",
       " length & maturity\\\\\n",
       "\\hline\n",
       "\t 31       & Immature\\\\\n",
       "\t 32       & Immature\\\\\n",
       "\t 32       & Immature\\\\\n",
       "\t 32       & Immature\\\\\n",
       "\t 32       & Immature\\\\\n",
       "\t 33       & Immature\\\\\n",
       "\\end{tabular}\n"
      ],
      "text/markdown": [
       "\n",
       "| length | maturity |\n",
       "|---|---|\n",
       "| 31       | Immature |\n",
       "| 32       | Immature |\n",
       "| 32       | Immature |\n",
       "| 32       | Immature |\n",
       "| 32       | Immature |\n",
       "| 33       | Immature |\n",
       "\n"
      ],
      "text/plain": [
       "  length maturity\n",
       "1 31     Immature\n",
       "2 32     Immature\n",
       "3 32     Immature\n",
       "4 32     Immature\n",
       "5 32     Immature\n",
       "6 33     Immature"
      ]
     },
     "metadata": {},
     "output_type": "display_data"
    }
   ],
   "source": [
    "# 2. remove missing values\n",
    "length_mat = filter_data_yr %>%\n",
    "  select(length, maturity) %>%\n",
    "  filter(!is.na(maturity))\n",
    "head(length_mat)"
   ]
  },
  {
   "cell_type": "code",
   "execution_count": 72,
   "id": "70382830",
   "metadata": {},
   "outputs": [],
   "source": [
    "# 3. convert 'maturity' characters to integers; Immature=0, Mature=1\n",
    "length_mat$maturity = ifelse(length_mat$maturity==\"Immature\",0,1)\n",
    "length_mat$maturity = as.factor(length_mat$maturity)\n",
    "num_maturity = as.numeric(levels(length_mat$maturity))[length_mat$maturity]"
   ]
  },
  {
   "cell_type": "code",
   "execution_count": 73,
   "id": "db01985e",
   "metadata": {
    "scrolled": true
   },
   "outputs": [
    {
     "data": {
      "text/plain": [
       "\n",
       "Call:\n",
       "glm(formula = maturity ~ length, family = \"binomial\", data = length_mat)\n",
       "\n",
       "Deviance Residuals: \n",
       "     Min        1Q    Median        3Q       Max  \n",
       "-3.15581   0.00611   0.14947   0.30604   1.76274  \n",
       "\n",
       "Coefficients:\n",
       "             Estimate Std. Error z value Pr(>|z|)    \n",
       "(Intercept) -18.73094    3.65351  -5.127 2.95e-07 ***\n",
       "length        0.48375    0.09094   5.320 1.04e-07 ***\n",
       "---\n",
       "Signif. codes:  0 '***' 0.001 '**' 0.01 '*' 0.05 '.' 0.1 ' ' 1\n",
       "\n",
       "(Dispersion parameter for binomial family taken to be 1)\n",
       "\n",
       "    Null deviance: 144.669  on 143  degrees of freedom\n",
       "Residual deviance:  66.296  on 142  degrees of freedom\n",
       "AIC: 70.296\n",
       "\n",
       "Number of Fisher Scoring iterations: 7\n"
      ]
     },
     "metadata": {},
     "output_type": "display_data"
    }
   ],
   "source": [
    "# 4. predict maturity from length data\n",
    "log_reg_model = glm(data=length_mat, maturity~length, family=\"binomial\")\n",
    "summary(log_reg_model)"
   ]
  },
  {
   "cell_type": "code",
   "execution_count": 74,
   "id": "a18c64dd",
   "metadata": {},
   "outputs": [],
   "source": [
    "beta_0 = log_reg_model$coefficients[1]\n",
    "beta_1 = log_reg_model$coefficients[2]\n",
    "x_axis = seq(min(length_mat$length)-3, max(length_mat$length)+3, 0.05)\n",
    "g_x = 1 / (1+exp(-(beta_0 + beta_1 * x_axis)))"
   ]
  },
  {
   "cell_type": "markdown",
   "id": "a874e4c5",
   "metadata": {},
   "source": [
    "* Generate a plot to show the data and the fit of the model (sigmoid)"
   ]
  },
  {
   "cell_type": "code",
   "execution_count": 75,
   "id": "b9f2cb77",
   "metadata": {},
   "outputs": [
    {
     "data": {
      "image/png": "[encoded data removed]",
      "text/plain": [
       "plot without title"
      ]
     },
     "metadata": {
      "image/png": {
       "height": 420,
       "width": 420
      }
     },
     "output_type": "display_data"
    }
   ],
   "source": [
    "# plot with model fit (sigmoid)\n",
    "ggplot()+ \n",
    "  geom_point(aes(x=length_mat$length, y=num_maturity)) + \n",
    "  geom_line(aes(x_axis, g_x)) +\n",
    "  xlab(\"Length (cm)\") +\n",
    "  ylab(\"Maturity\") +\n",
    "  theme(text = element_text(size = 14))"
   ]
  },
  {
   "cell_type": "markdown",
   "id": "d13fc0a5",
   "metadata": {},
   "source": [
    "* What is the length at which the probability of picking a mature fish is 0.5? \n",
    "  * You can eyeball it or can you compute it formally from the logistic regression"
   ]
  },
  {
   "cell_type": "code",
   "execution_count": 76,
   "id": "e624ec1c",
   "metadata": {},
   "outputs": [
    {
     "data": {
      "text/html": [
       "38.7204964157816"
      ],
      "text/latex": [
       "38.7204964157816"
      ],
      "text/markdown": [
       "38.7204964157816"
      ],
      "text/plain": [
       "[1] 38.7205"
      ]
     },
     "metadata": {},
     "output_type": "display_data"
    }
   ],
   "source": [
    "### length with 0.5 propability picking mature fish\n",
    "# from visual estimation, there is a 50% chance of picking a mature fish with length of ~38cm \n",
    "\n",
    "# using logistic regression\n",
    "lrPerc = function(cf,p) (log(p/(1-p))-cf[[1]])/cf[[2]]\n",
    "L50 = lrPerc(coef(log_reg_model), 0.5)\n",
    "L50"
   ]
  },
  {
   "cell_type": "markdown",
   "id": "0de3149e",
   "metadata": {},
   "source": [
    "* Add an era column to your dataset such that\n",
    " * era has the value \"pre_2000\" if the year of the observation is pre 2002\n",
    " * era has the value \"era2002 and after\" otherwise\n",
    "\n",
    "* Hint: Check the `if_else` in dplyr\n",
    "  * https://dplyr.tidyverse.org/reference/if_else.html\n",
    "\n",
    "* Bonus: implement this operation using a `pipeline` and `mutate`"
   ]
  },
  {
   "cell_type": "code",
   "execution_count": 77,
   "id": "7f8fca1e",
   "metadata": {},
   "outputs": [
    {
     "data": {
      "text/html": [
       "<table>\n",
       "<thead><tr><th scope=col>date</th><th scope=col>length</th><th scope=col>age</th><th scope=col>maturity</th><th scope=col>stage</th><th scope=col>year</th><th scope=col>era</th></tr></thead>\n",
       "<tbody>\n",
       "\t<tr><td>2003-09-02    </td><td>31            </td><td>10            </td><td>Immature      </td><td>1             </td><td>2003          </td><td>2002 and after</td></tr>\n",
       "\t<tr><td>2002-10-07    </td><td>32            </td><td> 6            </td><td>Immature      </td><td>1             </td><td>2002          </td><td>2002 and after</td></tr>\n",
       "\t<tr><td>2000-07-18    </td><td>32            </td><td>11            </td><td>Immature      </td><td>1             </td><td>2000          </td><td>pre 2002      </td></tr>\n",
       "\t<tr><td>2001-06-11    </td><td>32            </td><td>11            </td><td>Immature      </td><td>2             </td><td>2001          </td><td>pre 2002      </td></tr>\n",
       "\t<tr><td>2000-08-08    </td><td>32            </td><td>13            </td><td>Immature      </td><td>2             </td><td>2000          </td><td>pre 2002      </td></tr>\n",
       "\t<tr><td>2003-10-04    </td><td>33            </td><td> 9            </td><td>Immature      </td><td>1             </td><td>2003          </td><td>2002 and after</td></tr>\n",
       "</tbody>\n",
       "</table>\n"
      ],
      "text/latex": [
       "\\begin{tabular}{r|lllllll}\n",
       " date & length & age & maturity & stage & year & era\\\\\n",
       "\\hline\n",
       "\t 2003-09-02     & 31             & 10             & Immature       & 1              & 2003           & 2002 and after\\\\\n",
       "\t 2002-10-07     & 32             &  6             & Immature       & 1              & 2002           & 2002 and after\\\\\n",
       "\t 2000-07-18     & 32             & 11             & Immature       & 1              & 2000           & pre 2002      \\\\\n",
       "\t 2001-06-11     & 32             & 11             & Immature       & 2              & 2001           & pre 2002      \\\\\n",
       "\t 2000-08-08     & 32             & 13             & Immature       & 2              & 2000           & pre 2002      \\\\\n",
       "\t 2003-10-04     & 33             &  9             & Immature       & 1              & 2003           & 2002 and after\\\\\n",
       "\\end{tabular}\n"
      ],
      "text/markdown": [
       "\n",
       "| date | length | age | maturity | stage | year | era |\n",
       "|---|---|---|---|---|---|---|\n",
       "| 2003-09-02     | 31             | 10             | Immature       | 1              | 2003           | 2002 and after |\n",
       "| 2002-10-07     | 32             |  6             | Immature       | 1              | 2002           | 2002 and after |\n",
       "| 2000-07-18     | 32             | 11             | Immature       | 1              | 2000           | pre 2002       |\n",
       "| 2001-06-11     | 32             | 11             | Immature       | 2              | 2001           | pre 2002       |\n",
       "| 2000-08-08     | 32             | 13             | Immature       | 2              | 2000           | pre 2002       |\n",
       "| 2003-10-04     | 33             |  9             | Immature       | 1              | 2003           | 2002 and after |\n",
       "\n"
      ],
      "text/plain": [
       "  date       length age maturity stage year era           \n",
       "1 2003-09-02 31     10  Immature 1     2003 2002 and after\n",
       "2 2002-10-07 32      6  Immature 1     2002 2002 and after\n",
       "3 2000-07-18 32     11  Immature 1     2000 pre 2002      \n",
       "4 2001-06-11 32     11  Immature 2     2001 pre 2002      \n",
       "5 2000-08-08 32     13  Immature 2     2000 pre 2002      \n",
       "6 2003-10-04 33      9  Immature 1     2003 2002 and after"
      ]
     },
     "metadata": {},
     "output_type": "display_data"
    }
   ],
   "source": [
    "# Add era column with \n",
    "    #value \"pre_2000\" if the year of the observation is pre 2002\n",
    "    #value \"era2002 and after\" otherwise\n",
    "filter_data_era = filter_data_yr %>%\n",
    "  filter(!is.na(maturity)) %>%\n",
    "  mutate(era = ifelse(year<2002,\"pre 2002\", \"2002 and after\"))\n",
    "\n",
    "head(filter_data_era)"
   ]
  },
  {
   "cell_type": "markdown",
   "id": "d230ee76",
   "metadata": {},
   "source": [
    "* You suspected that some major environmental stressor that occurred in 2002 had an impact on the fish length and maturity\n",
    "* Build a logistic regression for maturity as an outcome using `era` and `length` as predictive variables\n",
    "  * Make sure your formula accounts for interactions\n",
    "\n",
    "* Use an ANOVA to test whether maturity is a function of both length and era\n",
    "* Does the maturity differ between the two eras?\n",
    "  i.e. is the era model coefficient significant?"
   ]
  },
  {
   "cell_type": "code",
   "execution_count": 84,
   "id": "b398a53d",
   "metadata": {},
   "outputs": [
    {
     "data": {
      "text/html": [
       "<table>\n",
       "<thead><tr><th scope=col>length</th><th scope=col>maturity</th><th scope=col>era</th></tr></thead>\n",
       "<tbody>\n",
       "\t<tr><td>31</td><td>1 </td><td>1 </td></tr>\n",
       "\t<tr><td>32</td><td>1 </td><td>1 </td></tr>\n",
       "\t<tr><td>32</td><td>1 </td><td>1 </td></tr>\n",
       "\t<tr><td>32</td><td>1 </td><td>1 </td></tr>\n",
       "\t<tr><td>32</td><td>1 </td><td>1 </td></tr>\n",
       "\t<tr><td>33</td><td>1 </td><td>1 </td></tr>\n",
       "</tbody>\n",
       "</table>\n"
      ],
      "text/latex": [
       "\\begin{tabular}{r|lll}\n",
       " length & maturity & era\\\\\n",
       "\\hline\n",
       "\t 31 & 1  & 1 \\\\\n",
       "\t 32 & 1  & 1 \\\\\n",
       "\t 32 & 1  & 1 \\\\\n",
       "\t 32 & 1  & 1 \\\\\n",
       "\t 32 & 1  & 1 \\\\\n",
       "\t 33 & 1  & 1 \\\\\n",
       "\\end{tabular}\n"
      ],
      "text/markdown": [
       "\n",
       "| length | maturity | era |\n",
       "|---|---|---|\n",
       "| 31 | 1  | 1  |\n",
       "| 32 | 1  | 1  |\n",
       "| 32 | 1  | 1  |\n",
       "| 32 | 1  | 1  |\n",
       "| 32 | 1  | 1  |\n",
       "| 33 | 1  | 1  |\n",
       "\n"
      ],
      "text/plain": [
       "  length maturity era\n",
       "1 31     1        1  \n",
       "2 32     1        1  \n",
       "3 32     1        1  \n",
       "4 32     1        1  \n",
       "5 32     1        1  \n",
       "6 33     1        1  "
      ]
     },
     "metadata": {},
     "output_type": "display_data"
    },
    {
     "ename": "ERROR",
     "evalue": "Error in `contrasts<-`(`*tmp*`, value = contr.funs[1 + isOF[nn]]): contrasts can be applied only to factors with 2 or more levels\n",
     "output_type": "error",
     "traceback": [
      "Error in `contrasts<-`(`*tmp*`, value = contr.funs[1 + isOF[nn]]): contrasts can be applied only to factors with 2 or more levels\nTraceback:\n",
      "1. glm(maturity ~ length * era, data = filter_data_era, family = \"binomial\")",
      "2. model.matrix(mt, mf, contrasts)",
      "3. model.matrix.default(mt, mf, contrasts)",
      "4. `contrasts<-`(`*tmp*`, value = contr.funs[1 + isOF[nn]])",
      "5. stop(\"contrasts can be applied only to factors with 2 or more levels\")"
     ]
    }
   ],
   "source": [
    "#Build a logistic regression for maturity as an outcome using era and length as predictive variables\n",
    "\n",
    "# convert 'maturity' characters to integers; Immature=0, Mature=1\n",
    "filter_data_era$maturity = ifelse(filter_data_era$maturity==\"Immature\",0,1)\n",
    "filter_data_era$maturity = as.factor(filter_data_era$maturity)\n",
    "num_filter_data_era = as.numeric(levels(filter_data_era$maturity))[filter_data_era$maturity]\n",
    "\n",
    "# convert 'era' characters to integers; pre 2002=0, post 2002=1\n",
    "filter_data_era$era = ifelse(filter_data_era$era==\"pre 2002\",0,1)\n",
    "filter_data_era$era = as.factor(filter_data_era$era)\n",
    "num_filter_data_era = as.numeric(levels(filter_data_era$era))[filter_data_era$era]\n",
    "\n",
    "model_data = filter_data_era %>%\n",
    "  select(length, maturity, era)\n",
    "head(model_data)\n",
    "\n",
    "\n",
    "\n",
    "### HELP: not sure why this code is returning error message about contrasts\n",
    "log_reg_model2 = glm(maturity~length*era, data=filter_data_era, family=\"binomial\")\n",
    "summary(log_reg_model2)"
   ]
  },
  {
   "cell_type": "code",
   "execution_count": 83,
   "id": "8053be48",
   "metadata": {},
   "outputs": [
    {
     "data": {
      "text/plain": [
       "\n",
       "Call:\n",
       "glm(formula = maturity ~ length, family = \"binomial\", data = filter_data_era)\n",
       "\n",
       "Deviance Residuals: \n",
       "       Min          1Q      Median          3Q         Max  \n",
       "-2.409e-06  -2.409e-06  -2.409e-06  -2.409e-06  -2.409e-06  \n",
       "\n",
       "Coefficients:\n",
       "             Estimate Std. Error z value Pr(>|z|)\n",
       "(Intercept)    -26.57  172896.83       0        1\n",
       "length           0.00    3703.40       0        1\n",
       "\n",
       "(Dispersion parameter for binomial family taken to be 1)\n",
       "\n",
       "    Null deviance: 0.0000e+00  on 143  degrees of freedom\n",
       "Residual deviance: 8.3543e-10  on 142  degrees of freedom\n",
       "AIC: 4\n",
       "\n",
       "Number of Fisher Scoring iterations: 25\n"
      ]
     },
     "metadata": {},
     "output_type": "display_data"
    },
    {
     "data": {
      "text/html": [
       "<table>\n",
       "<thead><tr><th></th><th scope=col>Df</th><th scope=col>Deviance</th><th scope=col>Resid. Df</th><th scope=col>Resid. Dev</th></tr></thead>\n",
       "<tbody>\n",
       "\t<tr><th scope=row>NULL</th><td>NA          </td><td>NA          </td><td>143         </td><td>0.000000e+00</td></tr>\n",
       "\t<tr><th scope=row>length</th><td> 1          </td><td> 0          </td><td>142         </td><td>8.354277e-10</td></tr>\n",
       "</tbody>\n",
       "</table>\n"
      ],
      "text/latex": [
       "\\begin{tabular}{r|llll}\n",
       "  & Df & Deviance & Resid. Df & Resid. Dev\\\\\n",
       "\\hline\n",
       "\tNULL & NA           & NA           & 143          & 0.000000e+00\\\\\n",
       "\tlength &  1           &  0           & 142          & 8.354277e-10\\\\\n",
       "\\end{tabular}\n"
      ],
      "text/markdown": [
       "\n",
       "| <!--/--> | Df | Deviance | Resid. Df | Resid. Dev |\n",
       "|---|---|---|---|---|\n",
       "| NULL | NA           | NA           | 143          | 0.000000e+00 |\n",
       "| length |  1           |  0           | 142          | 8.354277e-10 |\n",
       "\n"
      ],
      "text/plain": [
       "       Df Deviance Resid. Df Resid. Dev  \n",
       "NULL   NA NA       143       0.000000e+00\n",
       "length  1  0       142       8.354277e-10"
      ]
     },
     "metadata": {},
     "output_type": "display_data"
    }
   ],
   "source": [
    "#Use an ANOVA to test whether maturity is a function of both length and era\n",
    "\n",
    "anova(log_reg_model2)\n",
    "\n",
    "### HELP: ANOVA result is likely not accurate b/c log_reg_model2 was not properly calculated in previous step"
   ]
  },
  {
   "cell_type": "markdown",
   "id": "6be86c0f",
   "metadata": {},
   "source": [
    "### Final note:\n",
    "\n",
    "This practical is inspired from:\n",
    "http://derekogle.com/IFAR/supplements/maturity/index.html#fitting-the-logistic-regression-model\n",
    "\n",
    "The link above contains most answers, so please do not read until you are done with this practical."
   ]
  }
 ],
 "metadata": {
  "kernelspec": {
   "display_name": "R",
   "language": "R",
   "name": "ir"
  },
  "language_info": {
   "codemirror_mode": "r",
   "file_extension": ".r",
   "mimetype": "text/x-r-source",
   "name": "R",
   "pygments_lexer": "r",
   "version": "3.6.1"
  }
 },
 "nbformat": 4,
 "nbformat_minor": 5
}
